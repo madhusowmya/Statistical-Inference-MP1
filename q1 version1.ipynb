{
 "cells": [
  {
   "cell_type": "code",
   "execution_count": 2,
   "metadata": {},
   "outputs": [],
   "source": [
    "import numpy as np #Importing necessary datafiles\n",
    "import pandas as pd\n",
    "import math\n",
    "from sklearn.linear_model import LinearRegression"
   ]
  },
  {
   "cell_type": "code",
   "execution_count": 3,
   "metadata": {},
   "outputs": [],
   "source": [
    "data = pd.read_excel(r'C:\\Users\\madhu\\Desktop\\MP1 SI\\SI DATA.xlsx')"
   ]
  },
  {
   "cell_type": "code",
   "execution_count": 4,
   "metadata": {},
   "outputs": [],
   "source": [
    "df = pd.DataFrame(data)"
   ]
  },
  {
   "cell_type": "markdown",
   "metadata": {},
   "source": [
    "1a) Indexed by trading days, please arrange the data as a text file (or excel\n",
    "file) that is easy to be used for programming."
   ]
  },
  {
   "cell_type": "code",
   "execution_count": 5,
   "metadata": {},
   "outputs": [
    {
     "data": {
      "text/html": [
       "<div>\n",
       "<style scoped>\n",
       "    .dataframe tbody tr th:only-of-type {\n",
       "        vertical-align: middle;\n",
       "    }\n",
       "\n",
       "    .dataframe tbody tr th {\n",
       "        vertical-align: top;\n",
       "    }\n",
       "\n",
       "    .dataframe thead th {\n",
       "        text-align: right;\n",
       "    }\n",
       "</style>\n",
       "<table border=\"1\" class=\"dataframe\">\n",
       "  <thead>\n",
       "    <tr style=\"text-align: right;\">\n",
       "      <th></th>\n",
       "      <th>Trading Days</th>\n",
       "      <th>GOLD</th>\n",
       "      <th>USD Index</th>\n",
       "      <th>W T I Crude Oil Prices</th>\n",
       "    </tr>\n",
       "  </thead>\n",
       "  <tbody>\n",
       "    <tr>\n",
       "      <th>0</th>\n",
       "      <td>2020-01-01</td>\n",
       "      <td>NaN</td>\n",
       "      <td>96.39</td>\n",
       "      <td>NaN</td>\n",
       "    </tr>\n",
       "    <tr>\n",
       "      <th>1</th>\n",
       "      <td>2020-01-02</td>\n",
       "      <td>1520.55</td>\n",
       "      <td>96.85</td>\n",
       "      <td>61.18</td>\n",
       "    </tr>\n",
       "    <tr>\n",
       "      <th>2</th>\n",
       "      <td>2020-01-03</td>\n",
       "      <td>1547.40</td>\n",
       "      <td>96.84</td>\n",
       "      <td>63.05</td>\n",
       "    </tr>\n",
       "    <tr>\n",
       "      <th>3</th>\n",
       "      <td>2020-01-06</td>\n",
       "      <td>1576.85</td>\n",
       "      <td>96.67</td>\n",
       "      <td>63.27</td>\n",
       "    </tr>\n",
       "    <tr>\n",
       "      <th>4</th>\n",
       "      <td>2020-01-07</td>\n",
       "      <td>1566.50</td>\n",
       "      <td>97.00</td>\n",
       "      <td>62.70</td>\n",
       "    </tr>\n",
       "  </tbody>\n",
       "</table>\n",
       "</div>"
      ],
      "text/plain": [
       "  Trading Days     GOLD  USD Index  W T I Crude Oil Prices\n",
       "0   2020-01-01      NaN      96.39                     NaN\n",
       "1   2020-01-02  1520.55      96.85                   61.18\n",
       "2   2020-01-03  1547.40      96.84                   63.05\n",
       "3   2020-01-06  1576.85      96.67                   63.27\n",
       "4   2020-01-07  1566.50      97.00                   62.70"
      ]
     },
     "execution_count": 5,
     "metadata": {},
     "output_type": "execute_result"
    }
   ],
   "source": [
    "df.head()"
   ]
  },
  {
   "cell_type": "code",
   "execution_count": null,
   "metadata": {},
   "outputs": [],
   "source": []
  },
  {
   "cell_type": "code",
   "execution_count": 5,
   "metadata": {},
   "outputs": [],
   "source": [
    "df.index = pd.to_datetime(df['Trading Days'])#making date as index for the dataframe"
   ]
  },
  {
   "cell_type": "code",
   "execution_count": 6,
   "metadata": {},
   "outputs": [
    {
     "data": {
      "text/html": [
       "<div>\n",
       "<style scoped>\n",
       "    .dataframe tbody tr th:only-of-type {\n",
       "        vertical-align: middle;\n",
       "    }\n",
       "\n",
       "    .dataframe tbody tr th {\n",
       "        vertical-align: top;\n",
       "    }\n",
       "\n",
       "    .dataframe thead th {\n",
       "        text-align: right;\n",
       "    }\n",
       "</style>\n",
       "<table border=\"1\" class=\"dataframe\">\n",
       "  <thead>\n",
       "    <tr style=\"text-align: right;\">\n",
       "      <th></th>\n",
       "      <th>GOLD</th>\n",
       "      <th>USD Index</th>\n",
       "      <th>W T I Crude Oil Prices</th>\n",
       "    </tr>\n",
       "    <tr>\n",
       "      <th>Trading Days</th>\n",
       "      <th></th>\n",
       "      <th></th>\n",
       "      <th></th>\n",
       "    </tr>\n",
       "  </thead>\n",
       "  <tbody>\n",
       "    <tr>\n",
       "      <th>2020-01-01</th>\n",
       "      <td>NaN</td>\n",
       "      <td>96.39</td>\n",
       "      <td>NaN</td>\n",
       "    </tr>\n",
       "    <tr>\n",
       "      <th>2020-01-02</th>\n",
       "      <td>1520.55</td>\n",
       "      <td>96.85</td>\n",
       "      <td>61.18</td>\n",
       "    </tr>\n",
       "    <tr>\n",
       "      <th>2020-01-03</th>\n",
       "      <td>1547.40</td>\n",
       "      <td>96.84</td>\n",
       "      <td>63.05</td>\n",
       "    </tr>\n",
       "    <tr>\n",
       "      <th>2020-01-06</th>\n",
       "      <td>1576.85</td>\n",
       "      <td>96.67</td>\n",
       "      <td>63.27</td>\n",
       "    </tr>\n",
       "    <tr>\n",
       "      <th>2020-01-07</th>\n",
       "      <td>1566.50</td>\n",
       "      <td>97.00</td>\n",
       "      <td>62.70</td>\n",
       "    </tr>\n",
       "  </tbody>\n",
       "</table>\n",
       "</div>"
      ],
      "text/plain": [
       "                 GOLD  USD Index  W T I Crude Oil Prices\n",
       "Trading Days                                            \n",
       "2020-01-01        NaN      96.39                     NaN\n",
       "2020-01-02    1520.55      96.85                   61.18\n",
       "2020-01-03    1547.40      96.84                   63.05\n",
       "2020-01-06    1576.85      96.67                   63.27\n",
       "2020-01-07    1566.50      97.00                   62.70"
      ]
     },
     "execution_count": 6,
     "metadata": {},
     "output_type": "execute_result"
    }
   ],
   "source": [
    "df = df.drop(['Trading Days'],axis = 1)\n",
    "df.head()"
   ]
  },
  {
   "cell_type": "code",
   "execution_count": 7,
   "metadata": {},
   "outputs": [
    {
     "data": {
      "text/plain": [
       "GOLD                      253\n",
       "USD Index                 262\n",
       "W T I Crude Oil Prices    252\n",
       "dtype: int64"
      ]
     },
     "execution_count": 7,
     "metadata": {},
     "output_type": "execute_result"
    }
   ],
   "source": [
    "df.count()\n",
    "\n"
   ]
  },
  {
   "cell_type": "code",
   "execution_count": 8,
   "metadata": {},
   "outputs": [
    {
     "data": {
      "text/plain": [
       "GOLD                      247\n",
       "USD Index                 247\n",
       "W T I Crude Oil Prices    247\n",
       "dtype: int64"
      ]
     },
     "execution_count": 8,
     "metadata": {},
     "output_type": "execute_result"
    }
   ],
   "source": [
    "df = df.dropna()\n",
    "df.count()"
   ]
  },
  {
   "cell_type": "code",
   "execution_count": 9,
   "metadata": {},
   "outputs": [
    {
     "data": {
      "text/html": [
       "<div>\n",
       "<style scoped>\n",
       "    .dataframe tbody tr th:only-of-type {\n",
       "        vertical-align: middle;\n",
       "    }\n",
       "\n",
       "    .dataframe tbody tr th {\n",
       "        vertical-align: top;\n",
       "    }\n",
       "\n",
       "    .dataframe thead th {\n",
       "        text-align: right;\n",
       "    }\n",
       "</style>\n",
       "<table border=\"1\" class=\"dataframe\">\n",
       "  <thead>\n",
       "    <tr style=\"text-align: right;\">\n",
       "      <th></th>\n",
       "      <th>GOLD</th>\n",
       "      <th>USD Index</th>\n",
       "      <th>W T I Crude Oil Prices</th>\n",
       "    </tr>\n",
       "  </thead>\n",
       "  <tbody>\n",
       "    <tr>\n",
       "      <th>GOLD</th>\n",
       "      <td>1.000000</td>\n",
       "      <td>-0.790965</td>\n",
       "      <td>0.007230</td>\n",
       "    </tr>\n",
       "    <tr>\n",
       "      <th>USD Index</th>\n",
       "      <td>-0.790965</td>\n",
       "      <td>1.000000</td>\n",
       "      <td>-0.412865</td>\n",
       "    </tr>\n",
       "    <tr>\n",
       "      <th>W T I Crude Oil Prices</th>\n",
       "      <td>0.007230</td>\n",
       "      <td>-0.412865</td>\n",
       "      <td>1.000000</td>\n",
       "    </tr>\n",
       "  </tbody>\n",
       "</table>\n",
       "</div>"
      ],
      "text/plain": [
       "                            GOLD  USD Index  W T I Crude Oil Prices\n",
       "GOLD                    1.000000  -0.790965                0.007230\n",
       "USD Index              -0.790965   1.000000               -0.412865\n",
       "W T I Crude Oil Prices  0.007230  -0.412865                1.000000"
      ]
     },
     "execution_count": 9,
     "metadata": {},
     "output_type": "execute_result"
    }
   ],
   "source": [
    "df.corr()\n",
    "#hetamap "
   ]
  },
  {
   "cell_type": "markdown",
   "metadata": {},
   "source": [
    "1b) If the Gold price on August 11 is erased due to hard disk error, can you\n",
    "recover the gold price on August 11 by the regression of Gold price?"
   ]
  },
  {
   "cell_type": "code",
   "execution_count": 10,
   "metadata": {},
   "outputs": [
    {
     "name": "stdout",
     "output_type": "stream",
     "text": [
      "intercept: 1769.0294773430246\n",
      "coefficient: [0.10025028]\n"
     ]
    }
   ],
   "source": [
    "X = df[['W T I Crude Oil Prices']]\n",
    "Y = df['GOLD']\n",
    "model = LinearRegression()\n",
    "model.fit(X,Y)\n",
    "print('intercept:',model.intercept_)\n",
    "print('coefficient:',model.coef_)"
   ]
  },
  {
   "cell_type": "code",
   "execution_count": 11,
   "metadata": {},
   "outputs": [
    {
     "data": {
      "text/html": [
       "<div>\n",
       "<style scoped>\n",
       "    .dataframe tbody tr th:only-of-type {\n",
       "        vertical-align: middle;\n",
       "    }\n",
       "\n",
       "    .dataframe tbody tr th {\n",
       "        vertical-align: top;\n",
       "    }\n",
       "\n",
       "    .dataframe thead th {\n",
       "        text-align: right;\n",
       "    }\n",
       "</style>\n",
       "<table border=\"1\" class=\"dataframe\">\n",
       "  <thead>\n",
       "    <tr style=\"text-align: right;\">\n",
       "      <th></th>\n",
       "      <th>W T I Crude Oil Prices</th>\n",
       "    </tr>\n",
       "    <tr>\n",
       "      <th>Trading Days</th>\n",
       "      <th></th>\n",
       "    </tr>\n",
       "  </thead>\n",
       "  <tbody>\n",
       "    <tr>\n",
       "      <th>2020-08-11</th>\n",
       "      <td>41.61</td>\n",
       "    </tr>\n",
       "  </tbody>\n",
       "</table>\n",
       "</div>"
      ],
      "text/plain": [
       "              W T I Crude Oil Prices\n",
       "Trading Days                        \n",
       "2020-08-11                     41.61"
      ]
     },
     "execution_count": 11,
     "metadata": {},
     "output_type": "execute_result"
    }
   ],
   "source": [
    "result = df.loc[['2020-08-11'],['W T I Crude Oil Prices']] \n",
    "result\n",
    "# [0]['A']"
   ]
  },
  {
   "cell_type": "code",
   "execution_count": 12,
   "metadata": {},
   "outputs": [
    {
     "name": "stdout",
     "output_type": "stream",
     "text": [
      "41.61\n",
      "Gold Price on 11th August based on WTI Crudel oil price on the same day is: USD [1773.20089145]\n"
     ]
    }
   ],
   "source": [
    "b1 = result.iloc[0]['W T I Crude Oil Prices']\n",
    "print(b1)\n",
    "predict_oil = model.predict([[b1]])#41.61 is WTI crude oil on 11 th August \n",
    "print(\"Gold Price on 11th August based on WTI Crudel oil price on the same day is: USD\",predict_oil)"
   ]
  },
  {
   "cell_type": "code",
   "execution_count": 13,
   "metadata": {},
   "outputs": [
    {
     "name": "stdout",
     "output_type": "stream",
     "text": [
      "intercept: 5170.390155653377\n",
      "Coefficient: [-35.46645852]\n"
     ]
    }
   ],
   "source": [
    "X = df[['USD Index']]\n",
    "Y = df['GOLD']\n",
    "model = LinearRegression()\n",
    "model.fit(X,Y)\n",
    "print('intercept:',model.intercept_)\n",
    "print('Coefficient:',model.coef_)\n"
   ]
  },
  {
   "cell_type": "code",
   "execution_count": 14,
   "metadata": {},
   "outputs": [
    {
     "data": {
      "text/html": [
       "<div>\n",
       "<style scoped>\n",
       "    .dataframe tbody tr th:only-of-type {\n",
       "        vertical-align: middle;\n",
       "    }\n",
       "\n",
       "    .dataframe tbody tr th {\n",
       "        vertical-align: top;\n",
       "    }\n",
       "\n",
       "    .dataframe thead th {\n",
       "        text-align: right;\n",
       "    }\n",
       "</style>\n",
       "<table border=\"1\" class=\"dataframe\">\n",
       "  <thead>\n",
       "    <tr style=\"text-align: right;\">\n",
       "      <th></th>\n",
       "      <th>USD Index</th>\n",
       "    </tr>\n",
       "    <tr>\n",
       "      <th>Trading Days</th>\n",
       "      <th></th>\n",
       "    </tr>\n",
       "  </thead>\n",
       "  <tbody>\n",
       "    <tr>\n",
       "      <th>2020-08-11</th>\n",
       "      <td>93.63</td>\n",
       "    </tr>\n",
       "  </tbody>\n",
       "</table>\n",
       "</div>"
      ],
      "text/plain": [
       "              USD Index\n",
       "Trading Days           \n",
       "2020-08-11        93.63"
      ]
     },
     "execution_count": 14,
     "metadata": {},
     "output_type": "execute_result"
    }
   ],
   "source": [
    "result = df.loc[['2020-08-11'],['USD Index']] \n",
    "result"
   ]
  },
  {
   "cell_type": "code",
   "execution_count": 15,
   "metadata": {},
   "outputs": [
    {
     "name": "stdout",
     "output_type": "stream",
     "text": [
      "93.63\n",
      "Gold Price on 11th August based on USD Index is: USD [1849.6656446]\n"
     ]
    }
   ],
   "source": [
    "b2 = result.iloc[0]['USD Index']\n",
    "print(b2)\n",
    "predict_usd = model.predict([[b2]])#93.63 is USD index on on 11 th August \n",
    "print(\"Gold Price on 11th August based on USD Index is: USD\",predict_usd)"
   ]
  },
  {
   "cell_type": "markdown",
   "metadata": {},
   "source": [
    "1c) If the Gold price on August 11 is erased due to hard disk error, can you\n",
    "recover the gold price on August 11 by multiple regression of US Dollar\n",
    "Index and West Texas Oil price?"
   ]
  },
  {
   "cell_type": "code",
   "execution_count": 16,
   "metadata": {},
   "outputs": [
    {
     "name": "stdout",
     "output_type": "stream",
     "text": [
      "intercept: 6065.08574844133\n",
      "Coeffcient: [ -5.33755146 -42.59288186]\n"
     ]
    }
   ],
   "source": [
    "x = df[['W T I Crude Oil Prices','USD Index']]\n",
    "y = df['GOLD']\n",
    "mmodel = LinearRegression()\n",
    "mmodel.fit(x,y)\n",
    "print('intercept:',mmodel.intercept_)\n",
    "print('Coeffcient:',mmodel.coef_)"
   ]
  },
  {
   "cell_type": "code",
   "execution_count": 17,
   "metadata": {},
   "outputs": [
    {
     "data": {
      "text/html": [
       "<div>\n",
       "<style scoped>\n",
       "    .dataframe tbody tr th:only-of-type {\n",
       "        vertical-align: middle;\n",
       "    }\n",
       "\n",
       "    .dataframe tbody tr th {\n",
       "        vertical-align: top;\n",
       "    }\n",
       "\n",
       "    .dataframe thead th {\n",
       "        text-align: right;\n",
       "    }\n",
       "</style>\n",
       "<table border=\"1\" class=\"dataframe\">\n",
       "  <thead>\n",
       "    <tr style=\"text-align: right;\">\n",
       "      <th></th>\n",
       "      <th>USD Index</th>\n",
       "      <th>W T I Crude Oil Prices</th>\n",
       "    </tr>\n",
       "    <tr>\n",
       "      <th>Trading Days</th>\n",
       "      <th></th>\n",
       "      <th></th>\n",
       "    </tr>\n",
       "  </thead>\n",
       "  <tbody>\n",
       "    <tr>\n",
       "      <th>2020-08-11</th>\n",
       "      <td>93.63</td>\n",
       "      <td>41.61</td>\n",
       "    </tr>\n",
       "  </tbody>\n",
       "</table>\n",
       "</div>"
      ],
      "text/plain": [
       "              USD Index  W T I Crude Oil Prices\n",
       "Trading Days                                   \n",
       "2020-08-11        93.63                   41.61"
      ]
     },
     "execution_count": 17,
     "metadata": {},
     "output_type": "execute_result"
    }
   ],
   "source": [
    "result = df.loc[['2020-08-11'],['USD Index','W T I Crude Oil Prices']]\n",
    "result"
   ]
  },
  {
   "cell_type": "code",
   "execution_count": 18,
   "metadata": {},
   "outputs": [],
   "source": [
    "a1 = result.iloc[0]['USD Index']\n",
    "a2 = result.iloc[0]['W T I Crude Oil Prices']"
   ]
  },
  {
   "cell_type": "code",
   "execution_count": 19,
   "metadata": {},
   "outputs": [
    {
     "name": "stdout",
     "output_type": "stream",
     "text": [
      "Gold Price on 11 th August based on WTI Crudel oil price and USD Index is USD [3793.04099078]\n"
     ]
    }
   ],
   "source": [
    "predict_m = mmodel.predict([[a1,a2]])\n",
    "print('Gold Price on 11 th August based on WTI Crudel oil price and USD Index is USD',predict_m)"
   ]
  },
  {
   "cell_type": "markdown",
   "metadata": {},
   "source": [
    "Can you use the regression model to predict the Gold price on the first\n",
    "trading day in 2021, without checking the data? That is, repeat (a) and (b)\n",
    "but knowing all 2020 data to predict the first trading day in 2021."
   ]
  },
  {
   "cell_type": "code",
   "execution_count": 20,
   "metadata": {},
   "outputs": [],
   "source": [
    "USDIndex_median = df['USD Index'].median()\n",
    "predict = model.predict([[USDIndex_median]])"
   ]
  },
  {
   "cell_type": "code",
   "execution_count": 23,
   "metadata": {},
   "outputs": [
    {
     "data": {
      "text/plain": [
       "array([1750.35956075])"
      ]
     },
     "execution_count": 23,
     "metadata": {},
     "output_type": "execute_result"
    }
   ],
   "source": [
    "predict"
   ]
  },
  {
   "cell_type": "code",
   "execution_count": 72,
   "metadata": {},
   "outputs": [
    {
     "name": "stdout",
     "output_type": "stream",
     "text": [
      "Gold Price on the 1 st January, 2021 based on previous year USD index is USD [1750.35956075]\n"
     ]
    }
   ],
   "source": [
    "print('Gold Price on the 1 st January, 2021 based on previous year USD index is USD',predict)#"
   ]
  },
  {
   "cell_type": "code",
   "execution_count": 73,
   "metadata": {},
   "outputs": [],
   "source": [
    "WTI_Crude_Oil_Prices_median = df['W T I Crude Oil Prices'].median()\n",
    "predict = 0\n",
    "predict = model.predict([[WTI_Crude_Oil_Prices_median]])"
   ]
  },
  {
   "cell_type": "code",
   "execution_count": 74,
   "metadata": {},
   "outputs": [
    {
     "name": "stdout",
     "output_type": "stream",
     "text": [
      "Gold Price on the 1 st January 2021,based on previous year Crude Oil Prices 2021 is USD [3728.67861689]\n"
     ]
    }
   ],
   "source": [
    "print('Gold Price on the 1 st January 2021,based on previous year Crude Oil Prices 2021 is USD',predict)"
   ]
  },
  {
   "cell_type": "code",
   "execution_count": 75,
   "metadata": {},
   "outputs": [
    {
     "name": "stdout",
     "output_type": "stream",
     "text": [
      "Gold Price on the 1 st January 2021 based on previous year USD index and Crude Oil Prices 2021 is USD [1740.88268382]\n"
     ]
    }
   ],
   "source": [
    "mm_predict = mmodel.predict([[WTI_Crude_Oil_Prices_median, USDIndex_median]])\n",
    "print('Gold Price on the 1 st January 2021 based on previous year USD index and Crude Oil Prices 2021 is USD',mm_predict)"
   ]
  },
  {
   "cell_type": "code",
   "execution_count": 11,
   "metadata": {},
   "outputs": [
    {
     "data": {
      "image/png": "[encoded data removed]",
      "text/plain": [
       "<Figure size 432x288 with 1 Axes>"
      ]
     },
     "metadata": {
      "needs_background": "light"
     },
     "output_type": "display_data"
    }
   ],
   "source": [
    "import matplotlib.pyplot as plt\n",
    "import numpy as np\n",
    "\n",
    "xpoints = df['Trading Days']\n",
    "ypoints = df['GOLD']\n",
    "\n",
    "plt.title(\"Gold Price Vs trading days\")\n",
    "plt.xlabel(\"Trading days\")\n",
    "plt.ylabel(\"Gold Price in USD\")\n",
    "plt.plot(xpoints, ypoints)\n",
    "plt.grid()\n",
    "plt.show()"
   ]
  },
  {
   "cell_type": "code",
   "execution_count": null,
   "metadata": {},
   "outputs": [],
   "source": []
  },
  {
   "cell_type": "code",
   "execution_count": null,
   "metadata": {},
   "outputs": [],
   "source": []
  }
 ],
 "metadata": {
  "kernelspec": {
   "display_name": "Python 3",
   "language": "python",
   "name": "python3"
  },
  "language_info": {
   "codemirror_mode": {
    "name": "ipython",
    "version": 3
   },
   "file_extension": ".py",
   "mimetype": "text/x-python",
   "name": "python",
   "nbconvert_exporter": "python",
   "pygments_lexer": "ipython3",
   "version": "3.8.5"
  }
 },
 "nbformat": 4,
 "nbformat_minor": 4
}
