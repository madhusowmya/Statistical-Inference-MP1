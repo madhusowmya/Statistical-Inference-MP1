{
 "cells": [
  {
   "cell_type": "code",
   "execution_count": 41,
   "metadata": {},
   "outputs": [],
   "source": [
    "import numpy as np #Importing necessary datafiles\n",
    "import pandas as pd\n",
    "import math\n",
    "from sklearn.linear_model import LinearRegression"
   ]
  },
  {
   "cell_type": "code",
   "execution_count": 42,
   "metadata": {},
   "outputs": [],
   "source": [
    "data = pd.read_excel(r'C:\\Users\\madhu\\Desktop\\MP1 SI\\SI DATA.xlsx')"
   ]
  },
  {
   "cell_type": "code",
   "execution_count": 43,
   "metadata": {},
   "outputs": [],
   "source": [
    "df = pd.DataFrame(data)"
   ]
  },
  {
   "cell_type": "markdown",
   "metadata": {},
   "source": [
    "1a) Indexed by trading days, please arrange the data as a text file (or excel\n",
    "file) that is easy to be used for programming."
   ]
  },
  {
   "cell_type": "code",
   "execution_count": 4,
   "metadata": {},
   "outputs": [
    {
     "data": {
      "text/html": [
       "<div>\n",
       "<style scoped>\n",
       "    .dataframe tbody tr th:only-of-type {\n",
       "        vertical-align: middle;\n",
       "    }\n",
       "\n",
       "    .dataframe tbody tr th {\n",
       "        vertical-align: top;\n",
       "    }\n",
       "\n",
       "    .dataframe thead th {\n",
       "        text-align: right;\n",
       "    }\n",
       "</style>\n",
       "<table border=\"1\" class=\"dataframe\">\n",
       "  <thead>\n",
       "    <tr style=\"text-align: right;\">\n",
       "      <th></th>\n",
       "      <th>Trading Days</th>\n",
       "      <th>GOLD</th>\n",
       "      <th>USD Index</th>\n",
       "      <th>W T I Crude Oil Prices</th>\n",
       "    </tr>\n",
       "  </thead>\n",
       "  <tbody>\n",
       "    <tr>\n",
       "      <th>0</th>\n",
       "      <td>2020-01-01</td>\n",
       "      <td>NaN</td>\n",
       "      <td>96.39</td>\n",
       "      <td>NaN</td>\n",
       "    </tr>\n",
       "    <tr>\n",
       "      <th>1</th>\n",
       "      <td>2020-01-02</td>\n",
       "      <td>1520.55</td>\n",
       "      <td>96.85</td>\n",
       "      <td>61.18</td>\n",
       "    </tr>\n",
       "    <tr>\n",
       "      <th>2</th>\n",
       "      <td>2020-01-03</td>\n",
       "      <td>1547.40</td>\n",
       "      <td>96.84</td>\n",
       "      <td>63.05</td>\n",
       "    </tr>\n",
       "    <tr>\n",
       "      <th>3</th>\n",
       "      <td>2020-01-06</td>\n",
       "      <td>1576.85</td>\n",
       "      <td>96.67</td>\n",
       "      <td>63.27</td>\n",
       "    </tr>\n",
       "    <tr>\n",
       "      <th>4</th>\n",
       "      <td>2020-01-07</td>\n",
       "      <td>1566.50</td>\n",
       "      <td>97.00</td>\n",
       "      <td>62.70</td>\n",
       "    </tr>\n",
       "  </tbody>\n",
       "</table>\n",
       "</div>"
      ],
      "text/plain": [
       "  Trading Days     GOLD  USD Index  W T I Crude Oil Prices\n",
       "0   2020-01-01      NaN      96.39                     NaN\n",
       "1   2020-01-02  1520.55      96.85                   61.18\n",
       "2   2020-01-03  1547.40      96.84                   63.05\n",
       "3   2020-01-06  1576.85      96.67                   63.27\n",
       "4   2020-01-07  1566.50      97.00                   62.70"
      ]
     },
     "execution_count": 4,
     "metadata": {},
     "output_type": "execute_result"
    }
   ],
   "source": [
    "df.head()"
   ]
  },
  {
   "cell_type": "code",
   "execution_count": 44,
   "metadata": {},
   "outputs": [
    {
     "data": {
      "text/html": [
       "<div>\n",
       "<style scoped>\n",
       "    .dataframe tbody tr th:only-of-type {\n",
       "        vertical-align: middle;\n",
       "    }\n",
       "\n",
       "    .dataframe tbody tr th {\n",
       "        vertical-align: top;\n",
       "    }\n",
       "\n",
       "    .dataframe thead th {\n",
       "        text-align: right;\n",
       "    }\n",
       "</style>\n",
       "<table border=\"1\" class=\"dataframe\">\n",
       "  <thead>\n",
       "    <tr style=\"text-align: right;\">\n",
       "      <th></th>\n",
       "      <th>GOLD</th>\n",
       "      <th>USD Index</th>\n",
       "      <th>W T I Crude Oil Prices</th>\n",
       "    </tr>\n",
       "  </thead>\n",
       "  <tbody>\n",
       "    <tr>\n",
       "      <th>count</th>\n",
       "      <td>253.000000</td>\n",
       "      <td>262.000000</td>\n",
       "      <td>252.000000</td>\n",
       "    </tr>\n",
       "    <tr>\n",
       "      <th>mean</th>\n",
       "      <td>1771.843478</td>\n",
       "      <td>95.821489</td>\n",
       "      <td>39.683857</td>\n",
       "    </tr>\n",
       "    <tr>\n",
       "      <th>std</th>\n",
       "      <td>141.320861</td>\n",
       "      <td>3.181764</td>\n",
       "      <td>10.232494</td>\n",
       "    </tr>\n",
       "    <tr>\n",
       "      <th>min</th>\n",
       "      <td>1472.350000</td>\n",
       "      <td>89.680000</td>\n",
       "      <td>11.258000</td>\n",
       "    </tr>\n",
       "    <tr>\n",
       "      <th>25%</th>\n",
       "      <td>1655.900000</td>\n",
       "      <td>93.050000</td>\n",
       "      <td>36.797500</td>\n",
       "    </tr>\n",
       "    <tr>\n",
       "      <th>50%</th>\n",
       "      <td>1774.650000</td>\n",
       "      <td>96.485000</td>\n",
       "      <td>40.652000</td>\n",
       "    </tr>\n",
       "    <tr>\n",
       "      <th>75%</th>\n",
       "      <td>1892.600000</td>\n",
       "      <td>98.637500</td>\n",
       "      <td>45.547500</td>\n",
       "    </tr>\n",
       "    <tr>\n",
       "      <th>max</th>\n",
       "      <td>2061.500000</td>\n",
       "      <td>102.990000</td>\n",
       "      <td>63.270000</td>\n",
       "    </tr>\n",
       "  </tbody>\n",
       "</table>\n",
       "</div>"
      ],
      "text/plain": [
       "              GOLD   USD Index  W T I Crude Oil Prices\n",
       "count   253.000000  262.000000              252.000000\n",
       "mean   1771.843478   95.821489               39.683857\n",
       "std     141.320861    3.181764               10.232494\n",
       "min    1472.350000   89.680000               11.258000\n",
       "25%    1655.900000   93.050000               36.797500\n",
       "50%    1774.650000   96.485000               40.652000\n",
       "75%    1892.600000   98.637500               45.547500\n",
       "max    2061.500000  102.990000               63.270000"
      ]
     },
     "execution_count": 44,
     "metadata": {},
     "output_type": "execute_result"
    }
   ],
   "source": [
    "df.describe()"
   ]
  },
  {
   "cell_type": "code",
   "execution_count": 45,
   "metadata": {},
   "outputs": [],
   "source": [
    "df.index = pd.to_datetime(df['Trading Days'])#making date as index for the dataframe"
   ]
  },
  {
   "cell_type": "code",
   "execution_count": 46,
   "metadata": {},
   "outputs": [
    {
     "data": {
      "text/html": [
       "<div>\n",
       "<style scoped>\n",
       "    .dataframe tbody tr th:only-of-type {\n",
       "        vertical-align: middle;\n",
       "    }\n",
       "\n",
       "    .dataframe tbody tr th {\n",
       "        vertical-align: top;\n",
       "    }\n",
       "\n",
       "    .dataframe thead th {\n",
       "        text-align: right;\n",
       "    }\n",
       "</style>\n",
       "<table border=\"1\" class=\"dataframe\">\n",
       "  <thead>\n",
       "    <tr style=\"text-align: right;\">\n",
       "      <th></th>\n",
       "      <th>GOLD</th>\n",
       "      <th>USD Index</th>\n",
       "      <th>W T I Crude Oil Prices</th>\n",
       "    </tr>\n",
       "    <tr>\n",
       "      <th>Trading Days</th>\n",
       "      <th></th>\n",
       "      <th></th>\n",
       "      <th></th>\n",
       "    </tr>\n",
       "  </thead>\n",
       "  <tbody>\n",
       "    <tr>\n",
       "      <th>2020-01-01</th>\n",
       "      <td>NaN</td>\n",
       "      <td>96.39</td>\n",
       "      <td>NaN</td>\n",
       "    </tr>\n",
       "    <tr>\n",
       "      <th>2020-01-02</th>\n",
       "      <td>1520.55</td>\n",
       "      <td>96.85</td>\n",
       "      <td>61.18</td>\n",
       "    </tr>\n",
       "    <tr>\n",
       "      <th>2020-01-03</th>\n",
       "      <td>1547.40</td>\n",
       "      <td>96.84</td>\n",
       "      <td>63.05</td>\n",
       "    </tr>\n",
       "    <tr>\n",
       "      <th>2020-01-06</th>\n",
       "      <td>1576.85</td>\n",
       "      <td>96.67</td>\n",
       "      <td>63.27</td>\n",
       "    </tr>\n",
       "    <tr>\n",
       "      <th>2020-01-07</th>\n",
       "      <td>1566.50</td>\n",
       "      <td>97.00</td>\n",
       "      <td>62.70</td>\n",
       "    </tr>\n",
       "  </tbody>\n",
       "</table>\n",
       "</div>"
      ],
      "text/plain": [
       "                 GOLD  USD Index  W T I Crude Oil Prices\n",
       "Trading Days                                            \n",
       "2020-01-01        NaN      96.39                     NaN\n",
       "2020-01-02    1520.55      96.85                   61.18\n",
       "2020-01-03    1547.40      96.84                   63.05\n",
       "2020-01-06    1576.85      96.67                   63.27\n",
       "2020-01-07    1566.50      97.00                   62.70"
      ]
     },
     "execution_count": 46,
     "metadata": {},
     "output_type": "execute_result"
    }
   ],
   "source": [
    "df = df.drop(['Trading Days'],axis = 1)\n",
    "df.head()"
   ]
  },
  {
   "cell_type": "code",
   "execution_count": 47,
   "metadata": {},
   "outputs": [
    {
     "data": {
      "text/plain": [
       "GOLD                      253\n",
       "USD Index                 262\n",
       "W T I Crude Oil Prices    252\n",
       "dtype: int64"
      ]
     },
     "execution_count": 47,
     "metadata": {},
     "output_type": "execute_result"
    }
   ],
   "source": [
    "df.count()"
   ]
  },
  {
   "cell_type": "code",
   "execution_count": 23,
   "metadata": {},
   "outputs": [
    {
     "data": {
      "text/plain": [
       "GOLD                      262\n",
       "USD Index                 262\n",
       "W T I Crude Oil Prices    262\n",
       "dtype: int64"
      ]
     },
     "execution_count": 23,
     "metadata": {},
     "output_type": "execute_result"
    }
   ],
   "source": [
    "\n",
    "df.count()"
   ]
  },
  {
   "cell_type": "code",
   "execution_count": 24,
   "metadata": {},
   "outputs": [
    {
     "data": {
      "text/html": [
       "<div>\n",
       "<style scoped>\n",
       "    .dataframe tbody tr th:only-of-type {\n",
       "        vertical-align: middle;\n",
       "    }\n",
       "\n",
       "    .dataframe tbody tr th {\n",
       "        vertical-align: top;\n",
       "    }\n",
       "\n",
       "    .dataframe thead th {\n",
       "        text-align: right;\n",
       "    }\n",
       "</style>\n",
       "<table border=\"1\" class=\"dataframe\">\n",
       "  <thead>\n",
       "    <tr style=\"text-align: right;\">\n",
       "      <th></th>\n",
       "      <th>GOLD</th>\n",
       "      <th>USD Index</th>\n",
       "      <th>W T I Crude Oil Prices</th>\n",
       "    </tr>\n",
       "    <tr>\n",
       "      <th>Trading Days</th>\n",
       "      <th></th>\n",
       "      <th></th>\n",
       "      <th></th>\n",
       "    </tr>\n",
       "  </thead>\n",
       "  <tbody>\n",
       "    <tr>\n",
       "      <th>2020-01-01</th>\n",
       "      <td>0.00</td>\n",
       "      <td>96.39</td>\n",
       "      <td>0.00</td>\n",
       "    </tr>\n",
       "    <tr>\n",
       "      <th>2020-01-02</th>\n",
       "      <td>1520.55</td>\n",
       "      <td>96.85</td>\n",
       "      <td>61.18</td>\n",
       "    </tr>\n",
       "    <tr>\n",
       "      <th>2020-01-03</th>\n",
       "      <td>1547.40</td>\n",
       "      <td>96.84</td>\n",
       "      <td>63.05</td>\n",
       "    </tr>\n",
       "    <tr>\n",
       "      <th>2020-01-06</th>\n",
       "      <td>1576.85</td>\n",
       "      <td>96.67</td>\n",
       "      <td>63.27</td>\n",
       "    </tr>\n",
       "    <tr>\n",
       "      <th>2020-01-07</th>\n",
       "      <td>1566.50</td>\n",
       "      <td>97.00</td>\n",
       "      <td>62.70</td>\n",
       "    </tr>\n",
       "  </tbody>\n",
       "</table>\n",
       "</div>"
      ],
      "text/plain": [
       "                 GOLD  USD Index  W T I Crude Oil Prices\n",
       "Trading Days                                            \n",
       "2020-01-01       0.00      96.39                    0.00\n",
       "2020-01-02    1520.55      96.85                   61.18\n",
       "2020-01-03    1547.40      96.84                   63.05\n",
       "2020-01-06    1576.85      96.67                   63.27\n",
       "2020-01-07    1566.50      97.00                   62.70"
      ]
     },
     "execution_count": 24,
     "metadata": {},
     "output_type": "execute_result"
    }
   ],
   "source": [
    "df.head()"
   ]
  },
  {
   "cell_type": "code",
   "execution_count": 25,
   "metadata": {},
   "outputs": [
    {
     "data": {
      "text/html": [
       "<div>\n",
       "<style scoped>\n",
       "    .dataframe tbody tr th:only-of-type {\n",
       "        vertical-align: middle;\n",
       "    }\n",
       "\n",
       "    .dataframe tbody tr th {\n",
       "        vertical-align: top;\n",
       "    }\n",
       "\n",
       "    .dataframe thead th {\n",
       "        text-align: right;\n",
       "    }\n",
       "</style>\n",
       "<table border=\"1\" class=\"dataframe\">\n",
       "  <thead>\n",
       "    <tr style=\"text-align: right;\">\n",
       "      <th></th>\n",
       "      <th>GOLD</th>\n",
       "      <th>USD Index</th>\n",
       "      <th>W T I Crude Oil Prices</th>\n",
       "    </tr>\n",
       "  </thead>\n",
       "  <tbody>\n",
       "    <tr>\n",
       "      <th>GOLD</th>\n",
       "      <td>1.000000</td>\n",
       "      <td>-0.327529</td>\n",
       "      <td>0.25074</td>\n",
       "    </tr>\n",
       "    <tr>\n",
       "      <th>USD Index</th>\n",
       "      <td>-0.327529</td>\n",
       "      <td>1.000000</td>\n",
       "      <td>-0.34978</td>\n",
       "    </tr>\n",
       "    <tr>\n",
       "      <th>W T I Crude Oil Prices</th>\n",
       "      <td>0.250740</td>\n",
       "      <td>-0.349780</td>\n",
       "      <td>1.00000</td>\n",
       "    </tr>\n",
       "  </tbody>\n",
       "</table>\n",
       "</div>"
      ],
      "text/plain": [
       "                            GOLD  USD Index  W T I Crude Oil Prices\n",
       "GOLD                    1.000000  -0.327529                 0.25074\n",
       "USD Index              -0.327529   1.000000                -0.34978\n",
       "W T I Crude Oil Prices  0.250740  -0.349780                 1.00000"
      ]
     },
     "execution_count": 25,
     "metadata": {},
     "output_type": "execute_result"
    }
   ],
   "source": [
    "df.corr()\n",
    "#hetamap "
   ]
  },
  {
   "cell_type": "markdown",
   "metadata": {},
   "source": [
    "1b) If the Gold price on August 11 is erased due to hard disk error, can you\n",
    "recover the gold price on August 11 by the regression of Gold price?"
   ]
  },
  {
   "cell_type": "code",
   "execution_count": 26,
   "metadata": {},
   "outputs": [
    {
     "name": "stdout",
     "output_type": "stream",
     "text": [
      "intercept: 1443.673224857014\n",
      "coefficient: [7.003169]\n"
     ]
    }
   ],
   "source": [
    "X = df[['W T I Crude Oil Prices']]\n",
    "Y = df['GOLD']\n",
    "model = LinearRegression()\n",
    "model.fit(X,Y)\n",
    "print('intercept:',model.intercept_)\n",
    "print('coefficient:',model.coef_)"
   ]
  },
  {
   "cell_type": "code",
   "execution_count": 27,
   "metadata": {},
   "outputs": [
    {
     "data": {
      "text/html": [
       "<div>\n",
       "<style scoped>\n",
       "    .dataframe tbody tr th:only-of-type {\n",
       "        vertical-align: middle;\n",
       "    }\n",
       "\n",
       "    .dataframe tbody tr th {\n",
       "        vertical-align: top;\n",
       "    }\n",
       "\n",
       "    .dataframe thead th {\n",
       "        text-align: right;\n",
       "    }\n",
       "</style>\n",
       "<table border=\"1\" class=\"dataframe\">\n",
       "  <thead>\n",
       "    <tr style=\"text-align: right;\">\n",
       "      <th></th>\n",
       "      <th>W T I Crude Oil Prices</th>\n",
       "    </tr>\n",
       "    <tr>\n",
       "      <th>Trading Days</th>\n",
       "      <th></th>\n",
       "    </tr>\n",
       "  </thead>\n",
       "  <tbody>\n",
       "    <tr>\n",
       "      <th>2020-08-11</th>\n",
       "      <td>41.61</td>\n",
       "    </tr>\n",
       "  </tbody>\n",
       "</table>\n",
       "</div>"
      ],
      "text/plain": [
       "              W T I Crude Oil Prices\n",
       "Trading Days                        \n",
       "2020-08-11                     41.61"
      ]
     },
     "execution_count": 27,
     "metadata": {},
     "output_type": "execute_result"
    }
   ],
   "source": [
    "result = df.loc[['2020-08-11'],['W T I Crude Oil Prices']] \n",
    "result\n",
    "# [0]['A']"
   ]
  },
  {
   "cell_type": "code",
   "execution_count": 28,
   "metadata": {},
   "outputs": [
    {
     "name": "stdout",
     "output_type": "stream",
     "text": [
      "41.61\n",
      "Gold Price on 11th August based on WTI Crudel oil price on the same day is: USD [1735.07508709]\n"
     ]
    }
   ],
   "source": [
    "b1 = result.iloc[0]['W T I Crude Oil Prices']\n",
    "print(b1)\n",
    "predict_oil = model.predict([[b1]])#41.61 is WTI crude oil on 11 th August \n",
    "print(\"Gold Price on 11th August based on WTI Crudel oil price on the same day is: USD\",predict_oil)"
   ]
  },
  {
   "cell_type": "code",
   "execution_count": 29,
   "metadata": {},
   "outputs": [
    {
     "name": "stdout",
     "output_type": "stream",
     "text": [
      "intercept: 5181.865101209414\n",
      "Coefficient: [-36.22242284]\n"
     ]
    }
   ],
   "source": [
    "X = df[['USD Index']]\n",
    "Y = df['GOLD']\n",
    "model = LinearRegression()\n",
    "model.fit(X,Y)\n",
    "print('intercept:',model.intercept_)\n",
    "print('Coefficient:',model.coef_)\n"
   ]
  },
  {
   "cell_type": "code",
   "execution_count": 30,
   "metadata": {},
   "outputs": [
    {
     "data": {
      "text/html": [
       "<div>\n",
       "<style scoped>\n",
       "    .dataframe tbody tr th:only-of-type {\n",
       "        vertical-align: middle;\n",
       "    }\n",
       "\n",
       "    .dataframe tbody tr th {\n",
       "        vertical-align: top;\n",
       "    }\n",
       "\n",
       "    .dataframe thead th {\n",
       "        text-align: right;\n",
       "    }\n",
       "</style>\n",
       "<table border=\"1\" class=\"dataframe\">\n",
       "  <thead>\n",
       "    <tr style=\"text-align: right;\">\n",
       "      <th></th>\n",
       "      <th>USD Index</th>\n",
       "    </tr>\n",
       "    <tr>\n",
       "      <th>Trading Days</th>\n",
       "      <th></th>\n",
       "    </tr>\n",
       "  </thead>\n",
       "  <tbody>\n",
       "    <tr>\n",
       "      <th>2020-08-11</th>\n",
       "      <td>93.63</td>\n",
       "    </tr>\n",
       "  </tbody>\n",
       "</table>\n",
       "</div>"
      ],
      "text/plain": [
       "              USD Index\n",
       "Trading Days           \n",
       "2020-08-11        93.63"
      ]
     },
     "execution_count": 30,
     "metadata": {},
     "output_type": "execute_result"
    }
   ],
   "source": [
    "result = df.loc[['2020-08-11'],['USD Index']] \n",
    "result"
   ]
  },
  {
   "cell_type": "code",
   "execution_count": 31,
   "metadata": {},
   "outputs": [
    {
     "name": "stdout",
     "output_type": "stream",
     "text": [
      "93.63\n",
      "Gold Price on 11th August based on USD Index is: USD [1790.35965084]\n"
     ]
    }
   ],
   "source": [
    "b2 = result.iloc[0]['USD Index']\n",
    "print(b2)\n",
    "predict_usd = model.predict([[b2]])#93.63 is USD index on on 11 th August \n",
    "print(\"Gold Price on 11th August based on USD Index is: USD\",predict_usd)"
   ]
  },
  {
   "cell_type": "markdown",
   "metadata": {},
   "source": [
    "1c) If the Gold price on August 11 is erased due to hard disk error, can you\n",
    "recover the gold price on August 11 by multiple regression of US Dollar\n",
    "Index and West Texas Oil price?"
   ]
  },
  {
   "cell_type": "code",
   "execution_count": 32,
   "metadata": {},
   "outputs": [
    {
     "name": "stdout",
     "output_type": "stream",
     "text": [
      "intercept: 4441.323324471949\n",
      "Coeffcient: [  4.33363035 -30.22031876]\n"
     ]
    }
   ],
   "source": [
    "x = df[['W T I Crude Oil Prices','USD Index']]\n",
    "y = df['GOLD']\n",
    "mmodel = LinearRegression()\n",
    "mmodel.fit(x,y)\n",
    "print('intercept:',mmodel.intercept_)\n",
    "print('Coeffcient:',mmodel.coef_)\n"
   ]
  },
  {
   "cell_type": "code",
   "execution_count": 33,
   "metadata": {},
   "outputs": [
    {
     "data": {
      "text/html": [
       "<div>\n",
       "<style scoped>\n",
       "    .dataframe tbody tr th:only-of-type {\n",
       "        vertical-align: middle;\n",
       "    }\n",
       "\n",
       "    .dataframe tbody tr th {\n",
       "        vertical-align: top;\n",
       "    }\n",
       "\n",
       "    .dataframe thead th {\n",
       "        text-align: right;\n",
       "    }\n",
       "</style>\n",
       "<table border=\"1\" class=\"dataframe\">\n",
       "  <thead>\n",
       "    <tr style=\"text-align: right;\">\n",
       "      <th></th>\n",
       "      <th>USD Index</th>\n",
       "      <th>W T I Crude Oil Prices</th>\n",
       "    </tr>\n",
       "    <tr>\n",
       "      <th>Trading Days</th>\n",
       "      <th></th>\n",
       "      <th></th>\n",
       "    </tr>\n",
       "  </thead>\n",
       "  <tbody>\n",
       "    <tr>\n",
       "      <th>2020-08-11</th>\n",
       "      <td>93.63</td>\n",
       "      <td>41.61</td>\n",
       "    </tr>\n",
       "  </tbody>\n",
       "</table>\n",
       "</div>"
      ],
      "text/plain": [
       "              USD Index  W T I Crude Oil Prices\n",
       "Trading Days                                   \n",
       "2020-08-11        93.63                   41.61"
      ]
     },
     "execution_count": 33,
     "metadata": {},
     "output_type": "execute_result"
    }
   ],
   "source": [
    "result = df.loc[['2020-08-11'],['USD Index','W T I Crude Oil Prices']]\n",
    "result"
   ]
  },
  {
   "cell_type": "code",
   "execution_count": 34,
   "metadata": {},
   "outputs": [],
   "source": [
    "a1 = result.iloc[0]['USD Index']\n",
    "a2 = result.iloc[0]['W T I Crude Oil Prices']"
   ]
  },
  {
   "cell_type": "code",
   "execution_count": 35,
   "metadata": {},
   "outputs": [
    {
     "name": "stdout",
     "output_type": "stream",
     "text": [
      "Gold Price on 11 th August based on WTI Crudel oil price and USD Index is USD [3589.61367025]\n"
     ]
    }
   ],
   "source": [
    "predict_m = mmodel.predict([[a1,a2]])\n",
    "print('Gold Price on 11 th August based on WTI Crudel oil price and USD Index is USD',predict_m)"
   ]
  },
  {
   "cell_type": "markdown",
   "metadata": {},
   "source": [
    "Can you use the regression model to predict the Gold price on the first\n",
    "trading day in 2021, without checking the data? That is, repeat (a) and (b)\n",
    "but knowing all 2020 data to predict the first trading day in 2021."
   ]
  },
  {
   "cell_type": "code",
   "execution_count": 36,
   "metadata": {},
   "outputs": [],
   "source": [
    "USDIndex_median = df['USD Index'].median()\n",
    "predict = model.predict([[USDIndex_median]])"
   ]
  },
  {
   "cell_type": "code",
   "execution_count": 37,
   "metadata": {},
   "outputs": [
    {
     "name": "stdout",
     "output_type": "stream",
     "text": [
      "Gold Price on the 1 st January, 2021 based on previous year USD index is USD [1686.94463364]\n"
     ]
    }
   ],
   "source": [
    "print('Gold Price on the 1 st January, 2021 based on previous year USD index is USD',predict)#"
   ]
  },
  {
   "cell_type": "code",
   "execution_count": 38,
   "metadata": {},
   "outputs": [],
   "source": [
    "WTI_Crude_Oil_Prices_median = df['W T I Crude Oil Prices'].median()\n",
    "predict = 0\n",
    "predict = model.predict([[WTI_Crude_Oil_Prices_median]])"
   ]
  },
  {
   "cell_type": "code",
   "execution_count": 39,
   "metadata": {},
   "outputs": [
    {
     "name": "stdout",
     "output_type": "stream",
     "text": [
      "Gold Price on the 1 st January 2021,based on previous year Crude Oil Prices 2021 is USD [3711.23473397]\n"
     ]
    }
   ],
   "source": [
    "print('Gold Price on the 1 st January 2021,based on previous year Crude Oil Prices 2021 is USD',predict)"
   ]
  },
  {
   "cell_type": "code",
   "execution_count": 40,
   "metadata": {},
   "outputs": [
    {
     "name": "stdout",
     "output_type": "stream",
     "text": [
      "Gold Price on the 1 st January 2021 based on previous year USD index and Crude Oil Prices 2021 is USD [1701.46126061]\n"
     ]
    }
   ],
   "source": [
    "mm_predict = mmodel.predict([[WTI_Crude_Oil_Prices_median, USDIndex_median]])\n",
    "print('Gold Price on the 1 st January 2021 based on previous year USD index and Crude Oil Prices 2021 is USD',mm_predict)"
   ]
  },
  {
   "cell_type": "code",
   "execution_count": null,
   "metadata": {},
   "outputs": [],
   "source": []
  },
  {
   "cell_type": "code",
   "execution_count": null,
   "metadata": {},
   "outputs": [],
   "source": []
  }
 ],
 "metadata": {
  "kernelspec": {
   "display_name": "Python 3",
   "language": "python",
   "name": "python3"
  },
  "language_info": {
   "codemirror_mode": {
    "name": "ipython",
    "version": 3
   },
   "file_extension": ".py",
   "mimetype": "text/x-python",
   "name": "python",
   "nbconvert_exporter": "python",
   "pygments_lexer": "ipython3",
   "version": "3.8.5"
  }
 },
 "nbformat": 4,
 "nbformat_minor": 4
}
