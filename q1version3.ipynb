{
 "cells": [
  {
   "cell_type": "code",
   "execution_count": 39,
   "metadata": {},
   "outputs": [],
   "source": [
    "import numpy as np #Importing necessary datafiles\n",
    "import pandas as pd\n",
    "import math\n",
    "from sklearn.linear_model import LinearRegression"
   ]
  },
  {
   "cell_type": "code",
   "execution_count": 40,
   "metadata": {},
   "outputs": [],
   "source": [
    "data = pd.read_excel(r'C:\\Users\\madhu\\Desktop\\MP1 SI\\SI DATA.xlsx')"
   ]
  },
  {
   "cell_type": "code",
   "execution_count": 41,
   "metadata": {},
   "outputs": [],
   "source": [
    "df = pd.DataFrame(data)"
   ]
  },
  {
   "cell_type": "markdown",
   "metadata": {},
   "source": [
    "1a) Indexed by trading days, please arrange the data as a text file (or excel\n",
    "file) that is easy to be used for programming."
   ]
  },
  {
   "cell_type": "code",
   "execution_count": 42,
   "metadata": {},
   "outputs": [
    {
     "data": {
      "text/html": [
       "<div>\n",
       "<style scoped>\n",
       "    .dataframe tbody tr th:only-of-type {\n",
       "        vertical-align: middle;\n",
       "    }\n",
       "\n",
       "    .dataframe tbody tr th {\n",
       "        vertical-align: top;\n",
       "    }\n",
       "\n",
       "    .dataframe thead th {\n",
       "        text-align: right;\n",
       "    }\n",
       "</style>\n",
       "<table border=\"1\" class=\"dataframe\">\n",
       "  <thead>\n",
       "    <tr style=\"text-align: right;\">\n",
       "      <th></th>\n",
       "      <th>Trading Days</th>\n",
       "      <th>GOLD</th>\n",
       "      <th>USD Index</th>\n",
       "      <th>W T I Crude Oil Prices</th>\n",
       "    </tr>\n",
       "  </thead>\n",
       "  <tbody>\n",
       "    <tr>\n",
       "      <th>0</th>\n",
       "      <td>2020-01-01</td>\n",
       "      <td>NaN</td>\n",
       "      <td>96.39</td>\n",
       "      <td>NaN</td>\n",
       "    </tr>\n",
       "    <tr>\n",
       "      <th>1</th>\n",
       "      <td>2020-01-02</td>\n",
       "      <td>1520.55</td>\n",
       "      <td>96.85</td>\n",
       "      <td>61.18</td>\n",
       "    </tr>\n",
       "    <tr>\n",
       "      <th>2</th>\n",
       "      <td>2020-01-03</td>\n",
       "      <td>1547.40</td>\n",
       "      <td>96.84</td>\n",
       "      <td>63.05</td>\n",
       "    </tr>\n",
       "    <tr>\n",
       "      <th>3</th>\n",
       "      <td>2020-01-06</td>\n",
       "      <td>1576.85</td>\n",
       "      <td>96.67</td>\n",
       "      <td>63.27</td>\n",
       "    </tr>\n",
       "    <tr>\n",
       "      <th>4</th>\n",
       "      <td>2020-01-07</td>\n",
       "      <td>1566.50</td>\n",
       "      <td>97.00</td>\n",
       "      <td>62.70</td>\n",
       "    </tr>\n",
       "  </tbody>\n",
       "</table>\n",
       "</div>"
      ],
      "text/plain": [
       "  Trading Days     GOLD  USD Index  W T I Crude Oil Prices\n",
       "0   2020-01-01      NaN      96.39                     NaN\n",
       "1   2020-01-02  1520.55      96.85                   61.18\n",
       "2   2020-01-03  1547.40      96.84                   63.05\n",
       "3   2020-01-06  1576.85      96.67                   63.27\n",
       "4   2020-01-07  1566.50      97.00                   62.70"
      ]
     },
     "execution_count": 42,
     "metadata": {},
     "output_type": "execute_result"
    }
   ],
   "source": [
    "df.head()"
   ]
  },
  {
   "cell_type": "code",
   "execution_count": 43,
   "metadata": {},
   "outputs": [],
   "source": [
    "df.index = pd.to_datetime(df['Trading Days'])#making date as index for the dataframe"
   ]
  },
  {
   "cell_type": "code",
   "execution_count": 44,
   "metadata": {},
   "outputs": [
    {
     "data": {
      "text/html": [
       "<div>\n",
       "<style scoped>\n",
       "    .dataframe tbody tr th:only-of-type {\n",
       "        vertical-align: middle;\n",
       "    }\n",
       "\n",
       "    .dataframe tbody tr th {\n",
       "        vertical-align: top;\n",
       "    }\n",
       "\n",
       "    .dataframe thead th {\n",
       "        text-align: right;\n",
       "    }\n",
       "</style>\n",
       "<table border=\"1\" class=\"dataframe\">\n",
       "  <thead>\n",
       "    <tr style=\"text-align: right;\">\n",
       "      <th></th>\n",
       "      <th>GOLD</th>\n",
       "      <th>USD Index</th>\n",
       "      <th>W T I Crude Oil Prices</th>\n",
       "    </tr>\n",
       "    <tr>\n",
       "      <th>Trading Days</th>\n",
       "      <th></th>\n",
       "      <th></th>\n",
       "      <th></th>\n",
       "    </tr>\n",
       "  </thead>\n",
       "  <tbody>\n",
       "    <tr>\n",
       "      <th>2020-01-01</th>\n",
       "      <td>NaN</td>\n",
       "      <td>96.39</td>\n",
       "      <td>NaN</td>\n",
       "    </tr>\n",
       "    <tr>\n",
       "      <th>2020-01-02</th>\n",
       "      <td>1520.55</td>\n",
       "      <td>96.85</td>\n",
       "      <td>61.18</td>\n",
       "    </tr>\n",
       "    <tr>\n",
       "      <th>2020-01-03</th>\n",
       "      <td>1547.40</td>\n",
       "      <td>96.84</td>\n",
       "      <td>63.05</td>\n",
       "    </tr>\n",
       "    <tr>\n",
       "      <th>2020-01-06</th>\n",
       "      <td>1576.85</td>\n",
       "      <td>96.67</td>\n",
       "      <td>63.27</td>\n",
       "    </tr>\n",
       "    <tr>\n",
       "      <th>2020-01-07</th>\n",
       "      <td>1566.50</td>\n",
       "      <td>97.00</td>\n",
       "      <td>62.70</td>\n",
       "    </tr>\n",
       "  </tbody>\n",
       "</table>\n",
       "</div>"
      ],
      "text/plain": [
       "                 GOLD  USD Index  W T I Crude Oil Prices\n",
       "Trading Days                                            \n",
       "2020-01-01        NaN      96.39                     NaN\n",
       "2020-01-02    1520.55      96.85                   61.18\n",
       "2020-01-03    1547.40      96.84                   63.05\n",
       "2020-01-06    1576.85      96.67                   63.27\n",
       "2020-01-07    1566.50      97.00                   62.70"
      ]
     },
     "execution_count": 44,
     "metadata": {},
     "output_type": "execute_result"
    }
   ],
   "source": [
    "df = df.drop(['Trading Days'],axis = 1)\n",
    "df.head()"
   ]
  },
  {
   "cell_type": "code",
   "execution_count": 45,
   "metadata": {},
   "outputs": [
    {
     "data": {
      "text/plain": [
       "GOLD                      253\n",
       "USD Index                 262\n",
       "W T I Crude Oil Prices    252\n",
       "dtype: int64"
      ]
     },
     "execution_count": 45,
     "metadata": {},
     "output_type": "execute_result"
    }
   ],
   "source": [
    "df.count()"
   ]
  },
  {
   "cell_type": "code",
   "execution_count": 46,
   "metadata": {},
   "outputs": [
    {
     "data": {
      "text/plain": [
       "GOLD                      1771.843478\n",
       "USD Index                   95.821489\n",
       "W T I Crude Oil Prices      39.683857\n",
       "dtype: float64"
      ]
     },
     "execution_count": 46,
     "metadata": {},
     "output_type": "execute_result"
    }
   ],
   "source": [
    "mean_values=df[['GOLD','USD Index','W T I Crude Oil Prices']].mean()\n",
    "mean_values"
   ]
  },
  {
   "cell_type": "code",
   "execution_count": 47,
   "metadata": {},
   "outputs": [
    {
     "data": {
      "text/plain": [
       "GOLD                      262\n",
       "USD Index                 262\n",
       "W T I Crude Oil Prices    262\n",
       "dtype: int64"
      ]
     },
     "execution_count": 47,
     "metadata": {},
     "output_type": "execute_result"
    }
   ],
   "source": [
    "df[['GOLD','W T I Crude Oil Prices']] = df[['GOLD','W T I Crude Oil Prices']].fillna(value=df[['GOLD','W T I Crude Oil Prices']].mean())\n",
    "#print('Updated Dataframe:')\n",
    "df.count()"
   ]
  },
  {
   "cell_type": "code",
   "execution_count": 48,
   "metadata": {},
   "outputs": [
    {
     "data": {
      "text/html": [
       "<div>\n",
       "<style scoped>\n",
       "    .dataframe tbody tr th:only-of-type {\n",
       "        vertical-align: middle;\n",
       "    }\n",
       "\n",
       "    .dataframe tbody tr th {\n",
       "        vertical-align: top;\n",
       "    }\n",
       "\n",
       "    .dataframe thead th {\n",
       "        text-align: right;\n",
       "    }\n",
       "</style>\n",
       "<table border=\"1\" class=\"dataframe\">\n",
       "  <thead>\n",
       "    <tr style=\"text-align: right;\">\n",
       "      <th></th>\n",
       "      <th>GOLD</th>\n",
       "      <th>USD Index</th>\n",
       "      <th>W T I Crude Oil Prices</th>\n",
       "    </tr>\n",
       "    <tr>\n",
       "      <th>Trading Days</th>\n",
       "      <th></th>\n",
       "      <th></th>\n",
       "      <th></th>\n",
       "    </tr>\n",
       "  </thead>\n",
       "  <tbody>\n",
       "    <tr>\n",
       "      <th>2020-01-01</th>\n",
       "      <td>1771.843478</td>\n",
       "      <td>96.39</td>\n",
       "      <td>39.683857</td>\n",
       "    </tr>\n",
       "    <tr>\n",
       "      <th>2020-01-02</th>\n",
       "      <td>1520.550000</td>\n",
       "      <td>96.85</td>\n",
       "      <td>61.180000</td>\n",
       "    </tr>\n",
       "    <tr>\n",
       "      <th>2020-01-03</th>\n",
       "      <td>1547.400000</td>\n",
       "      <td>96.84</td>\n",
       "      <td>63.050000</td>\n",
       "    </tr>\n",
       "    <tr>\n",
       "      <th>2020-01-06</th>\n",
       "      <td>1576.850000</td>\n",
       "      <td>96.67</td>\n",
       "      <td>63.270000</td>\n",
       "    </tr>\n",
       "    <tr>\n",
       "      <th>2020-01-07</th>\n",
       "      <td>1566.500000</td>\n",
       "      <td>97.00</td>\n",
       "      <td>62.700000</td>\n",
       "    </tr>\n",
       "  </tbody>\n",
       "</table>\n",
       "</div>"
      ],
      "text/plain": [
       "                     GOLD  USD Index  W T I Crude Oil Prices\n",
       "Trading Days                                                \n",
       "2020-01-01    1771.843478      96.39               39.683857\n",
       "2020-01-02    1520.550000      96.85               61.180000\n",
       "2020-01-03    1547.400000      96.84               63.050000\n",
       "2020-01-06    1576.850000      96.67               63.270000\n",
       "2020-01-07    1566.500000      97.00               62.700000"
      ]
     },
     "execution_count": 48,
     "metadata": {},
     "output_type": "execute_result"
    }
   ],
   "source": [
    "df.head()"
   ]
  },
  {
   "cell_type": "code",
   "execution_count": 49,
   "metadata": {},
   "outputs": [
    {
     "data": {
      "text/html": [
       "<div>\n",
       "<style scoped>\n",
       "    .dataframe tbody tr th:only-of-type {\n",
       "        vertical-align: middle;\n",
       "    }\n",
       "\n",
       "    .dataframe tbody tr th {\n",
       "        vertical-align: top;\n",
       "    }\n",
       "\n",
       "    .dataframe thead th {\n",
       "        text-align: right;\n",
       "    }\n",
       "</style>\n",
       "<table border=\"1\" class=\"dataframe\">\n",
       "  <thead>\n",
       "    <tr style=\"text-align: right;\">\n",
       "      <th></th>\n",
       "      <th>GOLD</th>\n",
       "      <th>USD Index</th>\n",
       "      <th>W T I Crude Oil Prices</th>\n",
       "    </tr>\n",
       "  </thead>\n",
       "  <tbody>\n",
       "    <tr>\n",
       "      <th>GOLD</th>\n",
       "      <td>1.000000</td>\n",
       "      <td>-0.769478</td>\n",
       "      <td>0.007084</td>\n",
       "    </tr>\n",
       "    <tr>\n",
       "      <th>USD Index</th>\n",
       "      <td>-0.769478</td>\n",
       "      <td>1.000000</td>\n",
       "      <td>-0.409037</td>\n",
       "    </tr>\n",
       "    <tr>\n",
       "      <th>W T I Crude Oil Prices</th>\n",
       "      <td>0.007084</td>\n",
       "      <td>-0.409037</td>\n",
       "      <td>1.000000</td>\n",
       "    </tr>\n",
       "  </tbody>\n",
       "</table>\n",
       "</div>"
      ],
      "text/plain": [
       "                            GOLD  USD Index  W T I Crude Oil Prices\n",
       "GOLD                    1.000000  -0.769478                0.007084\n",
       "USD Index              -0.769478   1.000000               -0.409037\n",
       "W T I Crude Oil Prices  0.007084  -0.409037                1.000000"
      ]
     },
     "execution_count": 49,
     "metadata": {},
     "output_type": "execute_result"
    }
   ],
   "source": [
    "df.corr()\n",
    "#hetamap "
   ]
  },
  {
   "cell_type": "markdown",
   "metadata": {},
   "source": [
    "1b) If the Gold price on August 11 is erased due to hard disk error, can you\n",
    "recover the gold price on August 11 by the regression of Gold price?"
   ]
  },
  {
   "cell_type": "code",
   "execution_count": 50,
   "metadata": {},
   "outputs": [
    {
     "name": "stdout",
     "output_type": "stream",
     "text": [
      "intercept: 1767.953244687394\n",
      "coefficient: [0.09803063]\n"
     ]
    }
   ],
   "source": [
    "X = df[['W T I Crude Oil Prices']]\n",
    "Y = df['GOLD']\n",
    "model = LinearRegression()\n",
    "model.fit(X,Y)\n",
    "print('intercept:',model.intercept_)\n",
    "print('coefficient:',model.coef_)"
   ]
  },
  {
   "cell_type": "code",
   "execution_count": 51,
   "metadata": {},
   "outputs": [
    {
     "data": {
      "text/html": [
       "<div>\n",
       "<style scoped>\n",
       "    .dataframe tbody tr th:only-of-type {\n",
       "        vertical-align: middle;\n",
       "    }\n",
       "\n",
       "    .dataframe tbody tr th {\n",
       "        vertical-align: top;\n",
       "    }\n",
       "\n",
       "    .dataframe thead th {\n",
       "        text-align: right;\n",
       "    }\n",
       "</style>\n",
       "<table border=\"1\" class=\"dataframe\">\n",
       "  <thead>\n",
       "    <tr style=\"text-align: right;\">\n",
       "      <th></th>\n",
       "      <th>W T I Crude Oil Prices</th>\n",
       "    </tr>\n",
       "    <tr>\n",
       "      <th>Trading Days</th>\n",
       "      <th></th>\n",
       "    </tr>\n",
       "  </thead>\n",
       "  <tbody>\n",
       "    <tr>\n",
       "      <th>2020-08-11</th>\n",
       "      <td>41.61</td>\n",
       "    </tr>\n",
       "  </tbody>\n",
       "</table>\n",
       "</div>"
      ],
      "text/plain": [
       "              W T I Crude Oil Prices\n",
       "Trading Days                        \n",
       "2020-08-11                     41.61"
      ]
     },
     "execution_count": 51,
     "metadata": {},
     "output_type": "execute_result"
    }
   ],
   "source": [
    "result = df.loc[['2020-08-11'],['W T I Crude Oil Prices']] \n",
    "result\n",
    "# [0]['A']"
   ]
  },
  {
   "cell_type": "code",
   "execution_count": 52,
   "metadata": {},
   "outputs": [
    {
     "name": "stdout",
     "output_type": "stream",
     "text": [
      "41.61\n",
      "Gold Price on 11th August based on WTI Crudel oil price on the same day is: USD [1772.03229926]\n"
     ]
    }
   ],
   "source": [
    "b1 = result.iloc[0]['W T I Crude Oil Prices']\n",
    "print(b1)\n",
    "predict_oil = model.predict([[b1]])#41.61 is WTI crude oil on 11 th August \n",
    "print(\"Gold Price on 11th August based on WTI Crudel oil price on the same day is: USD\",predict_oil)"
   ]
  },
  {
   "cell_type": "code",
   "execution_count": 53,
   "metadata": {},
   "outputs": [
    {
     "name": "stdout",
     "output_type": "stream",
     "text": [
      "intercept: 4989.780623317712\n",
      "Coefficient: [-33.58262529]\n"
     ]
    }
   ],
   "source": [
    "X = df[['USD Index']]\n",
    "Y = df['GOLD']\n",
    "model = LinearRegression()\n",
    "model.fit(X,Y)\n",
    "print('intercept:',model.intercept_)\n",
    "print('Coefficient:',model.coef_)\n"
   ]
  },
  {
   "cell_type": "code",
   "execution_count": 54,
   "metadata": {},
   "outputs": [
    {
     "data": {
      "text/html": [
       "<div>\n",
       "<style scoped>\n",
       "    .dataframe tbody tr th:only-of-type {\n",
       "        vertical-align: middle;\n",
       "    }\n",
       "\n",
       "    .dataframe tbody tr th {\n",
       "        vertical-align: top;\n",
       "    }\n",
       "\n",
       "    .dataframe thead th {\n",
       "        text-align: right;\n",
       "    }\n",
       "</style>\n",
       "<table border=\"1\" class=\"dataframe\">\n",
       "  <thead>\n",
       "    <tr style=\"text-align: right;\">\n",
       "      <th></th>\n",
       "      <th>USD Index</th>\n",
       "    </tr>\n",
       "    <tr>\n",
       "      <th>Trading Days</th>\n",
       "      <th></th>\n",
       "    </tr>\n",
       "  </thead>\n",
       "  <tbody>\n",
       "    <tr>\n",
       "      <th>2020-08-11</th>\n",
       "      <td>93.63</td>\n",
       "    </tr>\n",
       "  </tbody>\n",
       "</table>\n",
       "</div>"
      ],
      "text/plain": [
       "              USD Index\n",
       "Trading Days           \n",
       "2020-08-11        93.63"
      ]
     },
     "execution_count": 54,
     "metadata": {},
     "output_type": "execute_result"
    }
   ],
   "source": [
    "result = df.loc[['2020-08-11'],['USD Index']] \n",
    "result"
   ]
  },
  {
   "cell_type": "code",
   "execution_count": 55,
   "metadata": {},
   "outputs": [
    {
     "name": "stdout",
     "output_type": "stream",
     "text": [
      "93.63\n",
      "Gold Price on 11th August based on USD Index is: USD [1845.43941706]\n"
     ]
    }
   ],
   "source": [
    "b2 = result.iloc[0]['USD Index']\n",
    "print(b2)\n",
    "predict_usd = model.predict([[b2]])#93.63 is USD index on on 11 th August \n",
    "print(\"Gold Price on 11th August based on USD Index is: USD\",predict_usd)"
   ]
  },
  {
   "cell_type": "markdown",
   "metadata": {},
   "source": [
    "1c) If the Gold price on August 11 is erased due to hard disk error, can you\n",
    "recover the gold price on August 11 by multiple regression of US Dollar\n",
    "Index and West Texas Oil price?"
   ]
  },
  {
   "cell_type": "code",
   "execution_count": 56,
   "metadata": {},
   "outputs": [
    {
     "name": "stdout",
     "output_type": "stream",
     "text": [
      "intercept: 5824.710604985727\n",
      "Coeffcient: [ -5.11303111 -40.17848594]\n"
     ]
    }
   ],
   "source": [
    "x = df[['W T I Crude Oil Prices','USD Index']]\n",
    "y = df['GOLD']\n",
    "mmodel = LinearRegression()\n",
    "mmodel.fit(x,y)\n",
    "print('intercept:',mmodel.intercept_)\n",
    "print('Coeffcient:',mmodel.coef_)\n"
   ]
  },
  {
   "cell_type": "code",
   "execution_count": 57,
   "metadata": {},
   "outputs": [
    {
     "data": {
      "text/html": [
       "<div>\n",
       "<style scoped>\n",
       "    .dataframe tbody tr th:only-of-type {\n",
       "        vertical-align: middle;\n",
       "    }\n",
       "\n",
       "    .dataframe tbody tr th {\n",
       "        vertical-align: top;\n",
       "    }\n",
       "\n",
       "    .dataframe thead th {\n",
       "        text-align: right;\n",
       "    }\n",
       "</style>\n",
       "<table border=\"1\" class=\"dataframe\">\n",
       "  <thead>\n",
       "    <tr style=\"text-align: right;\">\n",
       "      <th></th>\n",
       "      <th>USD Index</th>\n",
       "      <th>W T I Crude Oil Prices</th>\n",
       "    </tr>\n",
       "    <tr>\n",
       "      <th>Trading Days</th>\n",
       "      <th></th>\n",
       "      <th></th>\n",
       "    </tr>\n",
       "  </thead>\n",
       "  <tbody>\n",
       "    <tr>\n",
       "      <th>2020-08-11</th>\n",
       "      <td>93.63</td>\n",
       "      <td>41.61</td>\n",
       "    </tr>\n",
       "  </tbody>\n",
       "</table>\n",
       "</div>"
      ],
      "text/plain": [
       "              USD Index  W T I Crude Oil Prices\n",
       "Trading Days                                   \n",
       "2020-08-11        93.63                   41.61"
      ]
     },
     "execution_count": 57,
     "metadata": {},
     "output_type": "execute_result"
    }
   ],
   "source": [
    "result = df.loc[['2020-08-11'],['USD Index','W T I Crude Oil Prices']]\n",
    "result"
   ]
  },
  {
   "cell_type": "code",
   "execution_count": 58,
   "metadata": {},
   "outputs": [],
   "source": [
    "a1 = result.iloc[0]['USD Index']\n",
    "a2 = result.iloc[0]['W T I Crude Oil Prices']"
   ]
  },
  {
   "cell_type": "code",
   "execution_count": 59,
   "metadata": {},
   "outputs": [
    {
     "name": "stdout",
     "output_type": "stream",
     "text": [
      "Gold Price on 11 th August based on WTI Crudel oil price and USD Index is USD [3674.15070202]\n"
     ]
    }
   ],
   "source": [
    "predict_m = mmodel.predict([[a1,a2]])\n",
    "print('Gold Price on 11 th August based on WTI Crudel oil price and USD Index is USD',predict_m)"
   ]
  },
  {
   "cell_type": "markdown",
   "metadata": {},
   "source": [
    "Can you use the regression model to predict the Gold price on the first\n",
    "trading day in 2021, without checking the data? That is, repeat (a) and (b)\n",
    "but knowing all 2020 data to predict the first trading day in 2021."
   ]
  },
  {
   "cell_type": "code",
   "execution_count": 60,
   "metadata": {},
   "outputs": [],
   "source": [
    "USDIndex_median = df['USD Index'].median()\n",
    "predict = model.predict([[USDIndex_median]])"
   ]
  },
  {
   "cell_type": "code",
   "execution_count": 61,
   "metadata": {},
   "outputs": [
    {
     "name": "stdout",
     "output_type": "stream",
     "text": [
      "Gold Price on the 1 st January, 2021 based on previous year USD index is USD [1749.56102184]\n"
     ]
    }
   ],
   "source": [
    "print('Gold Price on the 1 st January, 2021 based on previous year USD index is USD',predict)#"
   ]
  },
  {
   "cell_type": "code",
   "execution_count": 62,
   "metadata": {},
   "outputs": [],
   "source": [
    "WTI_Crude_Oil_Prices_median = df['W T I Crude Oil Prices'].median()\n",
    "predict = 0\n",
    "predict = model.predict([[WTI_Crude_Oil_Prices_median]])"
   ]
  },
  {
   "cell_type": "code",
   "execution_count": 63,
   "metadata": {},
   "outputs": [
    {
     "name": "stdout",
     "output_type": "stream",
     "text": [
      "Gold Price on the 1 st January 2021,based on previous year Crude Oil Prices 2021 is USD [3626.32603639]\n"
     ]
    }
   ],
   "source": [
    "print('Gold Price on the 1 st January 2021,based on previous year Crude Oil Prices 2021 is USD',predict)"
   ]
  },
  {
   "cell_type": "code",
   "execution_count": 64,
   "metadata": {},
   "outputs": [
    {
     "name": "stdout",
     "output_type": "stream",
     "text": [
      "Gold Price on the 1 st January 2021 based on previous year USD index and Crude Oil Prices 2021 is USD [1740.50032585]\n"
     ]
    }
   ],
   "source": [
    "mm_predict = mmodel.predict([[WTI_Crude_Oil_Prices_median, USDIndex_median]])\n",
    "print('Gold Price on the 1 st January 2021 based on previous year USD index and Crude Oil Prices 2021 is USD',mm_predict)"
   ]
  },
  {
   "cell_type": "code",
   "execution_count": null,
   "metadata": {},
   "outputs": [],
   "source": []
  },
  {
   "cell_type": "code",
   "execution_count": null,
   "metadata": {},
   "outputs": [],
   "source": []
  }
 ],
 "metadata": {
  "kernelspec": {
   "display_name": "Python 3",
   "language": "python",
   "name": "python3"
  },
  "language_info": {
   "codemirror_mode": {
    "name": "ipython",
    "version": 3
   },
   "file_extension": ".py",
   "mimetype": "text/x-python",
   "name": "python",
   "nbconvert_exporter": "python",
   "pygments_lexer": "ipython3",
   "version": "3.8.5"
  }
 },
 "nbformat": 4,
 "nbformat_minor": 4
}
